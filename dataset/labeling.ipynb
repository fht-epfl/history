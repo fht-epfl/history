{
 "cells": [
  {
   "cell_type": "code",
   "execution_count": 1,
   "metadata": {},
   "outputs": [],
   "source": [
    "import pandas as pd"
   ]
  },
  {
   "cell_type": "code",
   "execution_count": 2,
   "metadata": {},
   "outputs": [
    {
     "data": {
      "text/html": [
       "<div>\n",
       "<style scoped>\n",
       "    .dataframe tbody tr th:only-of-type {\n",
       "        vertical-align: middle;\n",
       "    }\n",
       "\n",
       "    .dataframe tbody tr th {\n",
       "        vertical-align: top;\n",
       "    }\n",
       "\n",
       "    .dataframe thead th {\n",
       "        text-align: right;\n",
       "    }\n",
       "</style>\n",
       "<table border=\"1\" class=\"dataframe\">\n",
       "  <thead>\n",
       "    <tr style=\"text-align: right;\">\n",
       "      <th></th>\n",
       "      <th>text</th>\n",
       "      <th>book</th>\n",
       "      <th>author</th>\n",
       "      <th>year</th>\n",
       "    </tr>\n",
       "  </thead>\n",
       "  <tbody>\n",
       "    <tr>\n",
       "      <th>0</th>\n",
       "      <td>第凡內早餐      　　職棒六年，職場九年的春天，我初初萌生想要買一顆鑽石的念頭，而且要就...</td>\n",
       "      <td>第凡內早餐</td>\n",
       "      <td>朱天心</td>\n",
       "      <td>1995</td>\n",
       "    </tr>\n",
       "    <tr>\n",
       "      <th>1</th>\n",
       "      <td>要一個白金指環、六爪鑲嵌的典型第凡內圓形明亮切割的鑽戒。    　　為什麼呢？    　　為...</td>\n",
       "      <td>第凡內早餐</td>\n",
       "      <td>朱天心</td>\n",
       "      <td>1995</td>\n",
       "    </tr>\n",
       "    <tr>\n",
       "      <th>2</th>\n",
       "      <td>鑽石至少超過五億克拉，若是哪一天，一向壟斷掌控全世界80％鑽石原石的生產買賣庫存的德比爾斯公...</td>\n",
       "      <td>第凡內早餐</td>\n",
       "      <td>朱天心</td>\n",
       "      <td>1995</td>\n",
       "    </tr>\n",
       "    <tr>\n",
       "      <th>3</th>\n",
       "      <td>不可能），再無法控制如澳洲、蘇俄、薩伊、波扎那在內的諸國尚存地底的豐富鑽石礦藏，那麼，窮我所...</td>\n",
       "      <td>第凡內早餐</td>\n",
       "      <td>朱天心</td>\n",
       "      <td>1995</td>\n",
       "    </tr>\n",
       "    <tr>\n",
       "      <th>4</th>\n",
       "      <td>得出呢！    　　所以與保值無關。    　　儘管我很倒霉的抽籤中了辦公室裡這個月的會錢，...</td>\n",
       "      <td>第凡內早餐</td>\n",
       "      <td>朱天心</td>\n",
       "      <td>1995</td>\n",
       "    </tr>\n",
       "    <tr>\n",
       "      <th>...</th>\n",
       "      <td>...</td>\n",
       "      <td>...</td>\n",
       "      <td>...</td>\n",
       "      <td>...</td>\n",
       "    </tr>\n",
       "    <tr>\n",
       "      <th>11154</th>\n",
       "      <td>隨時隨地都可能、容易受到各種意外巧合的襲擊，並因此遭遇死亡。他們像原始人似的必須天天面對充滿...</td>\n",
       "      <td>預知死亡紀事</td>\n",
       "      <td>朱天心</td>\n",
       "      <td>1992</td>\n",
       "    </tr>\n",
       "    <tr>\n",
       "      <th>11155</th>\n",
       "      <td>誕不經、笑破肚腸、而他們所認為的神祕徵兆。  曠野之子（太陽晒熟的美果，月亮養成的寶貝），我...</td>\n",
       "      <td>預知死亡紀事</td>\n",
       "      <td>朱天心</td>\n",
       "      <td>1992</td>\n",
       "    </tr>\n",
       "    <tr>\n",
       "      <th>11156</th>\n",
       "      <td>曠野之子，他死得太早，假若活到我這年紀，他也許要收回他的教義——  我們的老靈魂們，我無法再...</td>\n",
       "      <td>預知死亡紀事</td>\n",
       "      <td>朱天心</td>\n",
       "      <td>1992</td>\n",
       "    </tr>\n",
       "    <tr>\n",
       "      <th>11157</th>\n",
       "      <td>的歌聲：  或許夜行者，  把這月暈叫作氣象，  但是我們精靈看法不同，  只有我們持有正確...</td>\n",
       "      <td>預知死亡紀事</td>\n",
       "      <td>朱天心</td>\n",
       "      <td>1992</td>\n",
       "    </tr>\n",
       "    <tr>\n",
       "      <th>11158</th>\n",
       "      <td>了那種奇異的飛翔。  《聯合文學》  一九九二年四月號</td>\n",
       "      <td>預知死亡紀事</td>\n",
       "      <td>朱天心</td>\n",
       "      <td>1992</td>\n",
       "    </tr>\n",
       "  </tbody>\n",
       "</table>\n",
       "<p>11159 rows × 4 columns</p>\n",
       "</div>"
      ],
      "text/plain": [
       "                                                    text    book author  year\n",
       "0      第凡內早餐      　　職棒六年，職場九年的春天，我初初萌生想要買一顆鑽石的念頭，而且要就...   第凡內早餐    朱天心  1995\n",
       "1      要一個白金指環、六爪鑲嵌的典型第凡內圓形明亮切割的鑽戒。    　　為什麼呢？    　　為...   第凡內早餐    朱天心  1995\n",
       "2      鑽石至少超過五億克拉，若是哪一天，一向壟斷掌控全世界80％鑽石原石的生產買賣庫存的德比爾斯公...   第凡內早餐    朱天心  1995\n",
       "3      不可能），再無法控制如澳洲、蘇俄、薩伊、波扎那在內的諸國尚存地底的豐富鑽石礦藏，那麼，窮我所...   第凡內早餐    朱天心  1995\n",
       "4      得出呢！    　　所以與保值無關。    　　儘管我很倒霉的抽籤中了辦公室裡這個月的會錢，...   第凡內早餐    朱天心  1995\n",
       "...                                                  ...     ...    ...   ...\n",
       "11154  隨時隨地都可能、容易受到各種意外巧合的襲擊，並因此遭遇死亡。他們像原始人似的必須天天面對充滿...  預知死亡紀事    朱天心  1992\n",
       "11155  誕不經、笑破肚腸、而他們所認為的神祕徵兆。  曠野之子（太陽晒熟的美果，月亮養成的寶貝），我...  預知死亡紀事    朱天心  1992\n",
       "11156  曠野之子，他死得太早，假若活到我這年紀，他也許要收回他的教義——  我們的老靈魂們，我無法再...  預知死亡紀事    朱天心  1992\n",
       "11157  的歌聲：  或許夜行者，  把這月暈叫作氣象，  但是我們精靈看法不同，  只有我們持有正確...  預知死亡紀事    朱天心  1992\n",
       "11158                        了那種奇異的飛翔。  《聯合文學》  一九九二年四月號  預知死亡紀事    朱天心  1992\n",
       "\n",
       "[11159 rows x 4 columns]"
      ]
     },
     "execution_count": 2,
     "metadata": {},
     "output_type": "execute_result"
    }
   ],
   "source": [
    "# read text files and chunk them into sentences with some overlapping\n",
    "import os\n",
    "import re\n",
    "\n",
    "def chunk_text(file_path, overlap=1):\n",
    "    with open(file_path, 'r') as file:\n",
    "        text = file.read()\n",
    "    chunk_size = 100\n",
    "    step_size = int(chunk_size * (1 - overlap / 10))\n",
    "    chunks = [text[i:i + chunk_size] for i in range(0, len(text), step_size)]\n",
    "    return chunks\n",
    "\n",
    "df = None\n",
    "\n",
    "for file in os.listdir('文学'):\n",
    "    if file.endswith('.txt'):\n",
    "        file_path = os.path.join('文学', file)\n",
    "        book_name = file.split('-')[0]\n",
    "        author = file.split('-')[1]\n",
    "        year = file.split('-')[2].split('.')[0]\n",
    "        chunks = chunk_text(file_path, overlap=1)\n",
    "        df_book = pd.DataFrame(\n",
    "            {'text': chunks,\n",
    "             'book': [book_name] * len(chunks),\n",
    "             'author': [author] * len(chunks),\n",
    "             'year': [year] * len(chunks)}\n",
    "        )\n",
    "        df_book['text'] = df_book['text'].str.replace(r'\\n', ' ', regex=True).str.strip()\n",
    "\n",
    "        df = pd.concat([df, df_book], ignore_index=True) if df is not None else df_book\n",
    "\n",
    "df"
   ]
  },
  {
   "cell_type": "code",
   "execution_count": 3,
   "metadata": {},
   "outputs": [
    {
     "data": {
      "application/vnd.jupyter.widget-view+json": {
       "model_id": "4fdda5dfb945412292f1c21a7c1a1dfd",
       "version_major": 2,
       "version_minor": 0
      },
      "text/plain": [
       "VBox(children=(Textarea(value='看看黃淮平原外，再要走在無限的日月山川裡聽不盡的漁樵閒話。就是到了現在，我也從不認為高一時的那種想法是否是幼稚，或悲觀。爺爺曾經說過日本有一個很轟動的事情，一…"
      ]
     },
     "metadata": {},
     "output_type": "display_data"
    },
    {
     "data": {
      "application/vnd.jupyter.widget-view+json": {
       "model_id": "f92e68513250453eba59cbdd6fe29bae",
       "version_major": 2,
       "version_minor": 0
      },
      "text/plain": [
       "VBox(children=(Textarea(value='，86巷，阿嬷家，談話頭，花吃店。有反共標語和公賣局煙酒鐵牌和中美合作握手圖案的，阿財的店。有三輪車、老收音機、電話、舊報紙、梳妝檯的，阿爸的情人。後現代中國…"
      ]
     },
     "metadata": {},
     "output_type": "display_data"
    },
    {
     "data": {
      "application/vnd.jupyter.widget-view+json": {
       "model_id": "a9095ed8e5544c5c9e5175c2a7cb7dc1",
       "version_major": 2,
       "version_minor": 0
      },
      "text/plain": [
       "VBox(children=(Textarea(value='神采，看人，被人看。不一刻男男女女紛亂到來，黑衣、白衣、灰衣，一系列國際流行中間色。    \\u3000\\u3000有人喊說貪狼來了，貪狼來了。美茵說，大翁你…"
      ]
     },
     "metadata": {},
     "output_type": "display_data"
    },
    {
     "data": {
      "application/vnd.jupyter.widget-view+json": {
       "model_id": "071cbd5785bb4ee491ba5592e190b5ea",
       "version_major": 2,
       "version_minor": 0
      },
      "text/plain": [
       "VBox(children=(Textarea(value='個要談什麼？李磊原先要談的她不想談，現在再談時機和情緒全不對了。  她看到薛敬走過來的表情，已經明白李磊今天不會來了，不知怎麼，她暗中鬆了一口氣。她們這樣半生…"
      ]
     },
     "metadata": {},
     "output_type": "display_data"
    },
    {
     "data": {
      "application/vnd.jupyter.widget-view+json": {
       "model_id": "23d8d086e39c40549fe73ecbb526be3e",
       "version_major": 2,
       "version_minor": 0
      },
      "text/plain": [
       "VBox(children=(Textarea(value='於我所剩餘三分之二的工資，總該可以自由運用吧。    \\u3000\\u3000但可以確定的是，我每次的餐飲花費中的三分之一，是間接繳給了房產主，即使不考慮國民…"
      ]
     },
     "metadata": {},
     "output_type": "display_data"
    },
    {
     "data": {
      "application/vnd.jupyter.widget-view+json": {
       "model_id": "b70fdff4235245b68ce39b67d49916ed",
       "version_major": 2,
       "version_minor": 0
      },
      "text/plain": [
       "VBox(children=(Textarea(value='薄弱的真相－－羅衣悲傷。    \\u3000\\u3000有一天排完戲，他又坐在劇場中央抽煙，晨勉推開門，滿劇場是煙，她在羅衣面前坐下，她老爸說錯了，她對改變愛…"
      ]
     },
     "metadata": {},
     "output_type": "display_data"
    },
    {
     "data": {
      "application/vnd.jupyter.widget-view+json": {
       "model_id": "e2297929babb4c1894569ba6bc567cf8",
       "version_major": 2,
       "version_minor": 0
      },
      "text/plain": [
       "VBox(children=(Textarea(value='不是這個意思，或該說，原本我的擔心也許源本於此，但一發展下去，便早就遠遠超過於此了。    \\u3000\\u3000我試著以一兩個例子解釋一下。    \\u3…"
      ]
     },
     "metadata": {},
     "output_type": "display_data"
    },
    {
     "data": {
      "application/vnd.jupyter.widget-view+json": {
       "model_id": "5cbc496445114db097d4aefc8fc10868",
       "version_major": 2,
       "version_minor": 0
      },
      "text/plain": [
       "VBox(children=(Textarea(value='7路公車上，看臺北灰灰的雨天，好不可怕，一時又想到那本「十五歲的遺書」。灰色的雨天常會讓我想到自殺之類的事，有時煩心事實在太多時就會想想死的方式，我可是絕不找…"
      ]
     },
     "metadata": {},
     "output_type": "display_data"
    },
    {
     "data": {
      "application/vnd.jupyter.widget-view+json": {
       "model_id": "329575563f7744d5a0b40212b6f4db39",
       "version_major": 2,
       "version_minor": 0
      },
      "text/plain": [
       "VBox(children=(Textarea(value='，夏天就要過完了，一到夜晚，幾百戶的大村子只剩十來點分不清遠近人家的燈火；遠遠沿半個村子外緣的縱貫公路久久才會有車燈無聲的閃一下而過，是我們唯一知道外頭世界還…"
      ]
     },
     "metadata": {},
     "output_type": "display_data"
    },
    {
     "data": {
      "application/vnd.jupyter.widget-view+json": {
       "model_id": "7edd9f68ad5a409683deafc563d60989",
       "version_major": 2,
       "version_minor": 0
      },
      "text/plain": [
       "VBox(children=(Textarea(value='嚇壞了鸚鵡，牠自己也撞昏過去。  戲班子又回來了，時間不對了，電視打得他們鼻青臉腫，他們想念么么拐高地的黃金歲月，他們又回來了。  還記得電視開播那天，我們村…"
      ]
     },
     "metadata": {},
     "output_type": "display_data"
    },
    {
     "data": {
      "text/html": [
       "<div style='font-family: Arial; line-height: 1.6;'>看看黃淮平原外，再要走在無限的<mark>日月</mark>山川裡聽不盡的漁樵閒話。就是到了現在，我也從不認為高一時的那種想法是否是幼稚，或悲觀。爺爺曾經說過日本有一個很轟動的事情，一個十八歲的女孩自殺，為的是面對這樣一個大好</div>"
      ],
      "text/plain": [
       "<IPython.core.display.HTML object>"
      ]
     },
     "metadata": {},
     "output_type": "display_data"
    }
   ],
   "source": [
    "import os\n",
    "from IPython.display import display, HTML\n",
    "import ipywidgets as widgets\n",
    "\n",
    "def highlight_keywords_toolkit(df, iloc):\n",
    "    \"\"\"\n",
    "    Creates an interactive toolkit for highlighting keywords in a specific text from the dataframe.\n",
    "\n",
    "    Parameters:\n",
    "    - df: pandas DataFrame containing the text data.\n",
    "    - iloc: int, the row index of the text to highlight.\n",
    "    \"\"\"\n",
    "    # Validate iloc index\n",
    "    if iloc < 0 or iloc >= len(df):\n",
    "        print(\"Invalid iloc index.\")\n",
    "        return\n",
    "\n",
    "    # Get the text for the specified iloc\n",
    "    text = df.iloc[iloc]['text']\n",
    "    book = df.iloc[iloc]['book']\n",
    "    author = df.iloc[iloc]['author']\n",
    "    year = df.iloc[iloc]['year']\n",
    "\n",
    "    # Create widgets\n",
    "    text_area = widgets.Textarea(value=text, description='Text:', layout=widgets.Layout(width='100%', height='200px'))\n",
    "    keyword_input = widgets.Text(description='Keywords:', placeholder='Enter keywords separated by commas')\n",
    "    save_button = widgets.Button(description='Save Keywords')\n",
    "    output_label = widgets.Label(value='')\n",
    "\n",
    "    # Function to handle keyword highlighting and saving\n",
    "    def save_keywords(_):\n",
    "        keywords = [kw.strip() for kw in keyword_input.value.split(',') if kw.strip()]\n",
    "        if not keywords:\n",
    "            output_label.value = \"No keywords entered.\"\n",
    "            return\n",
    "\n",
    "        # Highlight keywords in the text\n",
    "        highlighted_text = text\n",
    "        for keyword in keywords:\n",
    "            highlighted_text = re.sub(f\"({re.escape(keyword)})\", r'<mark>\\1</mark>', highlighted_text, flags=re.IGNORECASE)\n",
    "\n",
    "        # Save keywords to a file\n",
    "        output_file = f\"./labeled_keywords/{iloc}.txt\"\n",
    "        with open(output_file, 'w', encoding='utf-8') as f:\n",
    "            f.write(', '.join(keywords))\n",
    "        \n",
    "        # Display the highlighted text and confirmation\n",
    "        display(HTML(f\"<div style='font-family: Arial; line-height: 1.6;'>{highlighted_text}</div>\"))\n",
    "        output_label.value = f\"Keywords saved to {output_file}\"\n",
    "\n",
    "    # Attach the save function to the button\n",
    "    save_button.on_click(save_keywords)\n",
    "\n",
    "    # Display the interface\n",
    "    display(widgets.VBox([text_area, keyword_input, save_button, output_label]))\n",
    "\n",
    "\n",
    "random_index = df.index.to_list()\n",
    "import random\n",
    "random.shuffle(random_index)\n",
    "for idx in random_index[:10]:\n",
    "    highlight_keywords_toolkit(df, idx)\n"
   ]
  },
  {
   "cell_type": "code",
   "execution_count": null,
   "metadata": {},
   "outputs": [],
   "source": []
  }
 ],
 "metadata": {
  "kernelspec": {
   "display_name": "modern_nlp",
   "language": "python",
   "name": "python3"
  },
  "language_info": {
   "codemirror_mode": {
    "name": "ipython",
    "version": 3
   },
   "file_extension": ".py",
   "mimetype": "text/x-python",
   "name": "python",
   "nbconvert_exporter": "python",
   "pygments_lexer": "ipython3",
   "version": "3.10.11"
  }
 },
 "nbformat": 4,
 "nbformat_minor": 2
}
