{
 "cells": [
  {
   "cell_type": "code",
   "execution_count": 2,
   "metadata": {},
   "outputs": [],
   "source": [
    "import pandas as pd"
   ]
  },
  {
   "cell_type": "code",
   "execution_count": 3,
   "metadata": {},
   "outputs": [
    {
     "data": {
      "text/html": [
       "<div>\n",
       "<style scoped>\n",
       "    .dataframe tbody tr th:only-of-type {\n",
       "        vertical-align: middle;\n",
       "    }\n",
       "\n",
       "    .dataframe tbody tr th {\n",
       "        vertical-align: top;\n",
       "    }\n",
       "\n",
       "    .dataframe thead th {\n",
       "        text-align: right;\n",
       "    }\n",
       "</style>\n",
       "<table border=\"1\" class=\"dataframe\">\n",
       "  <thead>\n",
       "    <tr style=\"text-align: right;\">\n",
       "      <th></th>\n",
       "      <th>text</th>\n",
       "      <th>book</th>\n",
       "      <th>author</th>\n",
       "      <th>year</th>\n",
       "    </tr>\n",
       "  </thead>\n",
       "  <tbody>\n",
       "    <tr>\n",
       "      <th>0</th>\n",
       "      <td>世紀末的華麗      　　這是台灣獨有的城市天際線，米亞常常站在她的九樓陽臺上觀測天象。依...</td>\n",
       "      <td>世紀末的華麗</td>\n",
       "      <td>朱天文</td>\n",
       "      <td>1990</td>\n",
       "    </tr>\n",
       "    <tr>\n",
       "      <th>1</th>\n",
       "      <td>伸到日出日落處。我們需要輕質化建築，米亞的情人老段說。老段用輕質沖孔鐵皮建材來解決別墅開天窗...</td>\n",
       "      <td>世紀末的華麗</td>\n",
       "      <td>朱天文</td>\n",
       "      <td>1990</td>\n",
       "    </tr>\n",
       "    <tr>\n",
       "      <th>2</th>\n",
       "      <td>米亞是一位相信嗅覺，依賴嗅覺記憶活著的人。安息香使她回到那場八九年春裝秀中，淹沒在一片雪紡、...</td>\n",
       "      <td>世紀末的華麗</td>\n",
       "      <td>朱天文</td>\n",
       "      <td>1990</td>\n",
       "    </tr>\n",
       "    <tr>\n",
       "      <th>3</th>\n",
       "      <td>巾，搭配前個世紀末展露於維也納建築繪畫中的裝飾風，其間翹楚克林姆，綴滿亮箔珠繡的裝飾風。  ...</td>\n",
       "      <td>世紀末的華麗</td>\n",
       "      <td>朱天文</td>\n",
       "      <td>1990</td>\n",
       "    </tr>\n",
       "    <tr>\n",
       "      <th>4</th>\n",
       "      <td>，但她確信只要被她遇見一定逃不掉，然後那一種紫色負荷的所有東西霎時都會重現。不過比起嗅覺，顏...</td>\n",
       "      <td>世紀末的華麗</td>\n",
       "      <td>朱天文</td>\n",
       "      <td>1990</td>\n",
       "    </tr>\n",
       "    <tr>\n",
       "      <th>...</th>\n",
       "      <td>...</td>\n",
       "      <td>...</td>\n",
       "      <td>...</td>\n",
       "      <td>...</td>\n",
       "    </tr>\n",
       "    <tr>\n",
       "      <th>11154</th>\n",
       "      <td>隨時隨地都可能、容易受到各種意外巧合的襲擊，並因此遭遇死亡。他們像原始人似的必須天天面對充滿...</td>\n",
       "      <td>預知死亡紀事</td>\n",
       "      <td>朱天心</td>\n",
       "      <td>1992</td>\n",
       "    </tr>\n",
       "    <tr>\n",
       "      <th>11155</th>\n",
       "      <td>誕不經、笑破肚腸、而他們所認為的神祕徵兆。  曠野之子（太陽晒熟的美果，月亮養成的寶貝），我...</td>\n",
       "      <td>預知死亡紀事</td>\n",
       "      <td>朱天心</td>\n",
       "      <td>1992</td>\n",
       "    </tr>\n",
       "    <tr>\n",
       "      <th>11156</th>\n",
       "      <td>曠野之子，他死得太早，假若活到我這年紀，他也許要收回他的教義——  我們的老靈魂們，我無法再...</td>\n",
       "      <td>預知死亡紀事</td>\n",
       "      <td>朱天心</td>\n",
       "      <td>1992</td>\n",
       "    </tr>\n",
       "    <tr>\n",
       "      <th>11157</th>\n",
       "      <td>的歌聲：  或許夜行者，  把這月暈叫作氣象，  但是我們精靈看法不同，  只有我們持有正確...</td>\n",
       "      <td>預知死亡紀事</td>\n",
       "      <td>朱天心</td>\n",
       "      <td>1992</td>\n",
       "    </tr>\n",
       "    <tr>\n",
       "      <th>11158</th>\n",
       "      <td>了那種奇異的飛翔。  《聯合文學》  一九九二年四月號</td>\n",
       "      <td>預知死亡紀事</td>\n",
       "      <td>朱天心</td>\n",
       "      <td>1992</td>\n",
       "    </tr>\n",
       "  </tbody>\n",
       "</table>\n",
       "<p>11159 rows × 4 columns</p>\n",
       "</div>"
      ],
      "text/plain": [
       "                                                    text    book author  year\n",
       "0      世紀末的華麗      　　這是台灣獨有的城市天際線，米亞常常站在她的九樓陽臺上觀測天象。依...  世紀末的華麗    朱天文  1990\n",
       "1      伸到日出日落處。我們需要輕質化建築，米亞的情人老段說。老段用輕質沖孔鐵皮建材來解決別墅開天窗...  世紀末的華麗    朱天文  1990\n",
       "2      米亞是一位相信嗅覺，依賴嗅覺記憶活著的人。安息香使她回到那場八九年春裝秀中，淹沒在一片雪紡、...  世紀末的華麗    朱天文  1990\n",
       "3      巾，搭配前個世紀末展露於維也納建築繪畫中的裝飾風，其間翹楚克林姆，綴滿亮箔珠繡的裝飾風。  ...  世紀末的華麗    朱天文  1990\n",
       "4      ，但她確信只要被她遇見一定逃不掉，然後那一種紫色負荷的所有東西霎時都會重現。不過比起嗅覺，顏...  世紀末的華麗    朱天文  1990\n",
       "...                                                  ...     ...    ...   ...\n",
       "11154  隨時隨地都可能、容易受到各種意外巧合的襲擊，並因此遭遇死亡。他們像原始人似的必須天天面對充滿...  預知死亡紀事    朱天心  1992\n",
       "11155  誕不經、笑破肚腸、而他們所認為的神祕徵兆。  曠野之子（太陽晒熟的美果，月亮養成的寶貝），我...  預知死亡紀事    朱天心  1992\n",
       "11156  曠野之子，他死得太早，假若活到我這年紀，他也許要收回他的教義——  我們的老靈魂們，我無法再...  預知死亡紀事    朱天心  1992\n",
       "11157  的歌聲：  或許夜行者，  把這月暈叫作氣象，  但是我們精靈看法不同，  只有我們持有正確...  預知死亡紀事    朱天心  1992\n",
       "11158                        了那種奇異的飛翔。  《聯合文學》  一九九二年四月號  預知死亡紀事    朱天心  1992\n",
       "\n",
       "[11159 rows x 4 columns]"
      ]
     },
     "execution_count": 3,
     "metadata": {},
     "output_type": "execute_result"
    }
   ],
   "source": [
    "# read text files and chunk them into sentences with some overlapping\n",
    "import os\n",
    "import re\n",
    "\n",
    "def chunk_text(file_path, overlap=1):\n",
    "    with open(file_path, 'r') as file:\n",
    "        text = file.read()\n",
    "    chunk_size = 100\n",
    "    step_size = int(chunk_size * (1 - overlap / 10))\n",
    "    chunks = [text[i:i + chunk_size] for i in range(0, len(text), step_size)]\n",
    "    return chunks\n",
    "\n",
    "df = None\n",
    "\n",
    "for file in os.listdir('文学'):\n",
    "    if file.endswith('.txt'):\n",
    "        file_path = os.path.join('文学', file)\n",
    "        book_name = file.split('-')[0]\n",
    "        author = file.split('-')[1]\n",
    "        year = file.split('-')[2].split('.')[0]\n",
    "        chunks = chunk_text(file_path, overlap=1)\n",
    "        df_book = pd.DataFrame(\n",
    "            {'text': chunks,\n",
    "             'book': [book_name] * len(chunks),\n",
    "             'author': [author] * len(chunks),\n",
    "             'year': [year] * len(chunks)}\n",
    "        )\n",
    "        df_book['text'] = df_book['text'].str.replace(r'\\n', ' ', regex=True).str.strip()\n",
    "\n",
    "        df = pd.concat([df, df_book], ignore_index=True) if df is not None else df_book\n",
    "\n",
    "df"
   ]
  },
  {
   "cell_type": "code",
   "execution_count": 4,
   "metadata": {},
   "outputs": [
    {
     "data": {
      "application/vnd.jupyter.widget-view+json": {
       "model_id": "501e46711e7c41d983dfdd1f818ee4e0",
       "version_major": 2,
       "version_minor": 0
      },
      "text/plain": [
       "VBox(children=(Textarea(value='香港面臨九七大限，新加坡開出條件藉以吸引菁英。晨勉看準當地知識分子內心空虛的後設狀況，傳統家庭倫理信仰已經不足以支撐人的行為，她打算投資成立結合文化館、心理諮…"
      ]
     },
     "metadata": {},
     "output_type": "display_data"
    },
    {
     "data": {
      "application/vnd.jupyter.widget-view+json": {
       "model_id": "e32868e647f84f4cb773542f2679cd1f",
       "version_major": 2,
       "version_minor": 0
      },
      "text/plain": [
       "VBox(children=(Textarea(value='勉不願意留在他的屋子裡讓別人看著她留下，她有自己的空間：「請給我起碼的尊嚴。」    \\u3000\\u3000都蘭隨晨勉回她的屋子，坐她的車。他們穿過市區，可…"
      ]
     },
     "metadata": {},
     "output_type": "display_data"
    },
    {
     "data": {
      "application/vnd.jupyter.widget-view+json": {
       "model_id": "2503af39950944ee97c94582df69456c",
       "version_major": 2,
       "version_minor": 0
      },
      "text/plain": [
       "VBox(children=(Textarea(value='務教育還沒有延長成九年之前，他們好吃驚班上一些本省的同學竟然可以選擇不考試不升學（儘管他們暗自頗為羨慕），而回家幫家裡耕田，或做木工、水電工等學徒。而他們，眼…"
      ]
     },
     "metadata": {},
     "output_type": "display_data"
    },
    {
     "data": {
      "application/vnd.jupyter.widget-view+json": {
       "model_id": "49b74011b8d640cfaa1c45fdcba6992f",
       "version_major": 2,
       "version_minor": 0
      },
      "text/plain": [
       "VBox(children=(Textarea(value='這名字就叫上了。學名「止三」，表示三個男孩可以停止了。  狗蛋生下出奇的乖，他的長相很平常，誰也不像。我媽懷他時老盼望他是個女孩，於是成天思索誰最漂亮她好不斷…"
      ]
     },
     "metadata": {},
     "output_type": "display_data"
    },
    {
     "data": {
      "application/vnd.jupyter.widget-view+json": {
       "model_id": "f3ff58e5b2594f77807e4521f7b541fd",
       "version_major": 2,
       "version_minor": 0
      },
      "text/plain": [
       "VBox(children=(Textarea(value='以及下一代）吧！  時代到底把軍方變成了什麼怪物？建一間有地權的房子補償五十年沒地權的老戰友真這麼難？今天主事者肯定都軍校出身，軍校教育不教軍人武德？無戰場年…"
      ]
     },
     "metadata": {},
     "output_type": "display_data"
    },
    {
     "data": {
      "application/vnd.jupyter.widget-view+json": {
       "model_id": "acc84952fe6342c1b56c1ce9ca9004b5",
       "version_major": 2,
       "version_minor": 0
      },
      "text/plain": [
       "VBox(children=(Textarea(value='於此，小津數部片子都在這裡拍。我們認出那屢屢映現於各部片子裡的空鏡，五層塔風鐸，山丘，電車月台，以及攝入麥秋裡的八幡宮和大佛。而那一再被排列組合關係的兩名演員…"
      ]
     },
     "metadata": {},
     "output_type": "display_data"
    },
    {
     "data": {
      "application/vnd.jupyter.widget-view+json": {
       "model_id": "994a57a8965b45dbaf97516fb933995d",
       "version_major": 2,
       "version_minor": 0
      },
      "text/plain": [
       "VBox(children=(Textarea(value='趙慶接手，趙慶哼歌催眠小白妹，希望她睡一下也好。小白妹光笑，就不睡。  趙慶這才不情不願地說：「媽，小白妹是不是要找袁伯伯？」不為小白妹他才不開這個口承認這樁…"
      ]
     },
     "metadata": {},
     "output_type": "display_data"
    },
    {
     "data": {
      "application/vnd.jupyter.widget-view+json": {
       "model_id": "0579b01afbba44ef9464a366c9431abe",
       "version_major": 2,
       "version_minor": 0
      },
      "text/plain": [
       "VBox(children=(Textarea(value='注一擲的計畫。他一副賭命的神情，全村更沒有人願意挨近他了。  終於這一天段叔叔突擊回家沒見到席阿姨，院子裡祇有席阿姨前頭回來洗的衣服掛在竹竿上；還是溼的；暈在…"
      ]
     },
     "metadata": {},
     "output_type": "display_data"
    },
    {
     "data": {
      "application/vnd.jupyter.widget-view+json": {
       "model_id": "2575bd1ad26249a887475443b0d5130a",
       "version_major": 2,
       "version_minor": 0
      },
      "text/plain": [
       "VBox(children=(Textarea(value='丹尼說：「你如果找一個比你年輕的女孩，她一定比較有力氣。你就不會那麼累了。」    \\u3000\\u3000「我會更累。」丹尼尤其不認為年齡是問題，人跟人相處…"
      ]
     },
     "metadata": {},
     "output_type": "display_data"
    },
    {
     "data": {
      "application/vnd.jupyter.widget-view+json": {
       "model_id": "6d034e9916154234ace3f948e8064bda",
       "version_major": 2,
       "version_minor": 0
      },
      "text/plain": [
       "VBox(children=(Textarea(value='履的文學導師。於是每天要點的眼藥水包著醫院小藥袋、大藥袋、透明塑膠袋、紙袋最外層是紅條紋塑膠袋，（別里科夫的傘裝在套子裡，懷錶裝在灰色鹿皮套子裡，‧‧‧‧‧‧…"
      ]
     },
     "metadata": {},
     "output_type": "display_data"
    },
    {
     "data": {
      "text/html": [
       "<div style='font-family: Arial; line-height: 1.6;'><mark><mark>香港</mark></mark>面臨九七大限，<mark>新加坡</mark>開出條件藉以吸引菁英。晨勉看準當地知識分子內心空虛的後設狀況，傳統家庭倫理信仰已經不足以支撐人的行為，她打算投資成立結合文化館、心理諮詢的治療中心。她不確定自己不再會回<mark><mark>香港</mark></mark>，尤</div>"
      ],
      "text/plain": [
       "<IPython.core.display.HTML object>"
      ]
     },
     "metadata": {},
     "output_type": "display_data"
    }
   ],
   "source": [
    "import os\n",
    "from IPython.display import display, HTML\n",
    "import ipywidgets as widgets\n",
    "\n",
    "def highlight_keywords_toolkit(df, iloc):\n",
    "    \"\"\"\n",
    "    Creates an interactive toolkit for highlighting keywords in a specific text from the dataframe.\n",
    "\n",
    "    Parameters:\n",
    "    - df: pandas DataFrame containing the text data.\n",
    "    - iloc: int, the row index of the text to highlight.\n",
    "    \"\"\"\n",
    "    # Validate iloc index\n",
    "    if iloc < 0 or iloc >= len(df):\n",
    "        print(\"Invalid iloc index.\")\n",
    "        return\n",
    "\n",
    "    # Get the text for the specified iloc\n",
    "    text = df.iloc[iloc]['text']\n",
    "    book = df.iloc[iloc]['book']\n",
    "    author = df.iloc[iloc]['author']\n",
    "    year = df.iloc[iloc]['year']\n",
    "\n",
    "    # Create widgets\n",
    "    text_area = widgets.Textarea(value=text, description='Text:', layout=widgets.Layout(width='100%', height='200px'))\n",
    "    keyword_input = widgets.Text(description='Keywords:', placeholder='Enter keywords separated by commas')\n",
    "    save_button = widgets.Button(description='Save Keywords')\n",
    "    output_label = widgets.Label(value='')\n",
    "\n",
    "    # Function to handle keyword highlighting and saving\n",
    "    def save_keywords(_):\n",
    "        keywords = [kw.strip() for kw in keyword_input.value.split(',') if kw.strip()]\n",
    "        if not keywords:\n",
    "            output_label.value = \"No keywords entered.\"\n",
    "            return\n",
    "\n",
    "        # Highlight keywords in the text\n",
    "        highlighted_text = text\n",
    "        for keyword in keywords:\n",
    "            highlighted_text = re.sub(f\"({re.escape(keyword)})\", r'<mark>\\1</mark>', highlighted_text, flags=re.IGNORECASE)\n",
    "\n",
    "        # Save keywords to a file\n",
    "        output_file = f\"./labeled_keywords/{iloc}.txt\"\n",
    "        with open(output_file, 'w', encoding='utf-8') as f:\n",
    "            f.write(', '.join(keywords))\n",
    "        \n",
    "        # Display the highlighted text and confirmation\n",
    "        display(HTML(f\"<div style='font-family: Arial; line-height: 1.6;'>{highlighted_text}</div>\"))\n",
    "        output_label.value = f\"Keywords saved to {output_file}\"\n",
    "\n",
    "    # Attach the save function to the button\n",
    "    save_button.on_click(save_keywords)\n",
    "\n",
    "    # Display the interface\n",
    "    display(widgets.VBox([text_area, keyword_input, save_button, output_label]))\n",
    "\n",
    "\n",
    "random_index = df.index.to_list()\n",
    "import random\n",
    "random.shuffle(random_index)\n",
    "for idx in random_index[:10]:\n",
    "    highlight_keywords_toolkit(df, idx)\n"
   ]
  }
 ],
 "metadata": {
  "kernelspec": {
   "display_name": "ada",
   "language": "python",
   "name": "python3"
  },
  "language_info": {
   "codemirror_mode": {
    "name": "ipython",
    "version": 3
   },
   "file_extension": ".py",
   "mimetype": "text/x-python",
   "name": "python",
   "nbconvert_exporter": "python",
   "pygments_lexer": "ipython3",
   "version": "3.9.18"
  }
 },
 "nbformat": 4,
 "nbformat_minor": 2
}
