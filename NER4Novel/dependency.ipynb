{
 "cells": [
  {
   "cell_type": "code",
   "execution_count": 1,
   "id": "36abedcc",
   "metadata": {},
   "outputs": [
    {
     "name": "stdout",
     "output_type": "stream",
     "text": [
      "True\n"
     ]
    },
    {
     "data": {
      "text/html": [
       "<div>\n",
       "<style scoped>\n",
       "    .dataframe tbody tr th:only-of-type {\n",
       "        vertical-align: middle;\n",
       "    }\n",
       "\n",
       "    .dataframe tbody tr th {\n",
       "        vertical-align: top;\n",
       "    }\n",
       "\n",
       "    .dataframe thead th {\n",
       "        text-align: right;\n",
       "    }\n",
       "</style>\n",
       "<table border=\"1\" class=\"dataframe\">\n",
       "  <thead>\n",
       "    <tr style=\"text-align: right;\">\n",
       "      <th></th>\n",
       "      <th>gender_word</th>\n",
       "      <th>verb</th>\n",
       "      <th>relation</th>\n",
       "      <th>gender</th>\n",
       "    </tr>\n",
       "  </thead>\n",
       "  <tbody>\n",
       "    <tr>\n",
       "      <th>0</th>\n",
       "      <td>妈妈</td>\n",
       "      <td>取名</td>\n",
       "      <td>nsubj</td>\n",
       "      <td>female</td>\n",
       "    </tr>\n",
       "    <tr>\n",
       "      <th>1</th>\n",
       "      <td>妈妈</td>\n",
       "      <td>顶</td>\n",
       "      <td>nsubj</td>\n",
       "      <td>female</td>\n",
       "    </tr>\n",
       "    <tr>\n",
       "      <th>2</th>\n",
       "      <td>爷爷</td>\n",
       "      <td>喜欢</td>\n",
       "      <td>nsubj</td>\n",
       "      <td>male</td>\n",
       "    </tr>\n",
       "    <tr>\n",
       "      <th>3</th>\n",
       "      <td>他们</td>\n",
       "      <td>像</td>\n",
       "      <td>nsubj</td>\n",
       "      <td>male</td>\n",
       "    </tr>\n",
       "    <tr>\n",
       "      <th>4</th>\n",
       "      <td>妈妈</td>\n",
       "      <td>与</td>\n",
       "      <td>pobj</td>\n",
       "      <td>female</td>\n",
       "    </tr>\n",
       "    <tr>\n",
       "      <th>...</th>\n",
       "      <td>...</td>\n",
       "      <td>...</td>\n",
       "      <td>...</td>\n",
       "      <td>...</td>\n",
       "    </tr>\n",
       "    <tr>\n",
       "      <th>4236</th>\n",
       "      <td>她</td>\n",
       "      <td>拧</td>\n",
       "      <td>nsubj</td>\n",
       "      <td>female</td>\n",
       "    </tr>\n",
       "    <tr>\n",
       "      <th>4237</th>\n",
       "      <td>她</td>\n",
       "      <td>替</td>\n",
       "      <td>pobj</td>\n",
       "      <td>female</td>\n",
       "    </tr>\n",
       "    <tr>\n",
       "      <th>4238</th>\n",
       "      <td>哥哥</td>\n",
       "      <td>知道</td>\n",
       "      <td>nsubj</td>\n",
       "      <td>male</td>\n",
       "    </tr>\n",
       "    <tr>\n",
       "      <th>4239</th>\n",
       "      <td>他</td>\n",
       "      <td>握</td>\n",
       "      <td>nsubj</td>\n",
       "      <td>male</td>\n",
       "    </tr>\n",
       "    <tr>\n",
       "      <th>4240</th>\n",
       "      <td>爸爸</td>\n",
       "      <td>们</td>\n",
       "      <td>nn</td>\n",
       "      <td>male</td>\n",
       "    </tr>\n",
       "  </tbody>\n",
       "</table>\n",
       "<p>4241 rows × 4 columns</p>\n",
       "</div>"
      ],
      "text/plain": [
       "     gender_word verb relation  gender\n",
       "0             妈妈   取名    nsubj  female\n",
       "1             妈妈    顶    nsubj  female\n",
       "2             爷爷   喜欢    nsubj    male\n",
       "3             他们    像    nsubj    male\n",
       "4             妈妈    与     pobj  female\n",
       "...          ...  ...      ...     ...\n",
       "4236           她    拧    nsubj  female\n",
       "4237           她    替     pobj  female\n",
       "4238          哥哥   知道    nsubj    male\n",
       "4239           他    握    nsubj    male\n",
       "4240          爸爸    们       nn    male\n",
       "\n",
       "[4241 rows x 4 columns]"
      ]
     },
     "execution_count": 1,
     "metadata": {},
     "output_type": "execute_result"
    }
   ],
   "source": [
    "import pandas as pd\n",
    "from matplotlib import font_manager\n",
    "print(\"SimHei\" in [f.name for f in font_manager.fontManager.ttflist])  \n",
    "\n",
    "df = pd.read_csv('gender.csv').drop(columns=['Unnamed: 0'])\n",
    "df"
   ]
  },
  {
   "cell_type": "code",
   "execution_count": null,
   "id": "43026cff",
   "metadata": {},
   "outputs": [],
   "source": []
  },
  {
   "cell_type": "code",
   "execution_count": null,
   "id": "ae754be6",
   "metadata": {},
   "outputs": [
    {
     "data": {
      "text/plain": [
       "verb\n",
       "看     16\n",
       "告诉    14\n",
       "让     13\n",
       "带     10\n",
       "想      9\n",
       "      ..\n",
       "怕      1\n",
       "如      1\n",
       "宠爱     1\n",
       "代      1\n",
       "呵斥     1\n",
       "Name: count, Length: 164, dtype: int64"
      ]
     },
     "execution_count": 30,
     "metadata": {},
     "output_type": "execute_result"
    }
   ],
   "source": [
    "df[(df['gender']=='female') & (df['relation']=='dobj')]['verb'].value_counts()"
   ]
  },
  {
   "cell_type": "code",
   "execution_count": 31,
   "id": "0f418bc3",
   "metadata": {},
   "outputs": [
    {
     "data": {
      "text/plain": [
       "verb\n",
       "看    21\n",
       "让    15\n",
       "问    13\n",
       "叫    13\n",
       "给    10\n",
       "     ..\n",
       "无     1\n",
       "接     1\n",
       "打     1\n",
       "靠     1\n",
       "住     1\n",
       "Name: count, Length: 170, dtype: int64"
      ]
     },
     "execution_count": 31,
     "metadata": {},
     "output_type": "execute_result"
    }
   ],
   "source": [
    "df[(df['gender']=='male') & (df['relation']=='dobj')]['verb'].value_counts()"
   ]
  },
  {
   "cell_type": "code",
   "execution_count": 32,
   "id": "81b5eeb4",
   "metadata": {},
   "outputs": [
    {
     "data": {
      "text/plain": [
       "verb\n",
       "说     67\n",
       "是     39\n",
       "有     19\n",
       "想     18\n",
       "告诉    17\n",
       "      ..\n",
       "抽      1\n",
       "思乡     1\n",
       "喝酒     1\n",
       "行经     1\n",
       "跟着     1\n",
       "Name: count, Length: 711, dtype: int64"
      ]
     },
     "execution_count": 32,
     "metadata": {},
     "output_type": "execute_result"
    }
   ],
   "source": [
    "df[(df['gender']=='male') & (df['relation']=='nsubj')]['verb'].value_counts()"
   ]
  },
  {
   "cell_type": "code",
   "execution_count": 33,
   "id": "93c60671",
   "metadata": {},
   "outputs": [
    {
     "data": {
      "text/plain": [
       "verb\n",
       "说     41\n",
       "是     28\n",
       "有     12\n",
       "做     11\n",
       "喜欢    11\n",
       "      ..\n",
       "建议     1\n",
       "美      1\n",
       "加上     1\n",
       "熟      1\n",
       "拧      1\n",
       "Name: count, Length: 453, dtype: int64"
      ]
     },
     "execution_count": 33,
     "metadata": {},
     "output_type": "execute_result"
    }
   ],
   "source": [
    "df[(df['gender']=='female') & (df['relation']=='nsubj')]['verb'].value_counts()"
   ]
  }
 ],
 "metadata": {
  "kernelspec": {
   "display_name": "base",
   "language": "python",
   "name": "python3"
  },
  "language_info": {
   "codemirror_mode": {
    "name": "ipython",
    "version": 3
   },
   "file_extension": ".py",
   "mimetype": "text/x-python",
   "name": "python",
   "nbconvert_exporter": "python",
   "pygments_lexer": "ipython3",
   "version": "3.12.7"
  }
 },
 "nbformat": 4,
 "nbformat_minor": 5
}
